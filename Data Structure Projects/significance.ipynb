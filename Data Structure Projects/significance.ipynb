{
 "cells": [
  {
   "cell_type": "markdown",
   "metadata": {},
   "source": [
    "# Homework: Significance Test"
   ]
  },
  {
   "cell_type": "markdown",
   "metadata": {},
   "source": [
    "<img src=\"https://i.dlpng.com/static/png/5251081-redpill-red-pill-png-384_269_preview.png\" width=\"200\" align=\"right\">\n",
    "\n",
    "## Objectives\n",
    "\n",
    "- Practice working with Jupyter Notebooks\n",
    "- Understand the basic concepts of statistical significance\n",
    "- Use the _shuffling_ method for hypothesis testing\n",
    "\n",
    "Recommended source: https://www.youtube.com/watch?v=Iq9DzN6mvYA\n",
    "\n",
    "## Background\n",
    "\n",
    "Your professor is conducting a [randomized control trial](https://en.wikipedia.org/wiki/Randomized_controlled_trial) to verify the effectiveness of a new wonder supplement ( _Pythonifin_ ) on algorithmic thinking and problem solving. The instructor first seeks [IRB](https://en.wikipedia.org/wiki/Institutional_review_board) approval and he follows the ethical guidelines for human subject research by making the participation completely voluntary, offering no rewards (or punishment) for taking (or not taking) part in the study, and assigning the participants to the treatment (i.e. taking _Pythonifin_ ) and to the control (i.e. taking a placebo) groups completely randomly.\n",
    "\n",
    "By the beginning of the trial 35 students decide to enroll to the study. Since there are 20 doses of _Pythonifin_ are availaable, the professor decides to assing 20 students to the treatment group and the remaining 15 students to the control group. Each test subject is given a pill 30 minutes before taking a test exam (this exam score will not be used in the final semester grade). All tests are evaluated without knowing the group assignments (blind study). The anonymized test scores are shown in the following table:\n",
    "\n",
    "| Pythofinin | Placebo |\n",
    "|------------|---------|\n",
    "|          91|       84|\n",
    "|          87|       92|\n",
    "|          71|       78|\n",
    "|         100|      100|\n",
    "|          91|       82|\n",
    "|          97|       85|\n",
    "|         100|       78|\n",
    "|          80|       87|\n",
    "|         100|      100|\n",
    "|          79|       85|\n",
    "|          83|       93|\n",
    "|          94|       76|\n",
    "|          83|       86|\n",
    "|          79|       89|\n",
    "|          99|       88|\n",
    "|          95|         |\n",
    "|          90|         |\n",
    "|          97|         |\n",
    "|         100|         |\n",
    "|          91|         |\n",
    "\n",
    "While, at first glance, the results show a slight advantage in using _Pythonifin_ , the professor has heard about rigorous significance testing. Unfortunately, he has very limited background in statistical techniques. He decides to do a [permutation test](https://en.wikipedia.org/wiki/Resampling_(statistics)#Permutation_tests) to see if the results are significant at a _p value_ of 5%. In a nutshell, he wants to know, that the chance of getting this particular result by accident is less than 5%.\n",
    "\n",
    "In this assignment you are going to follow the thought process of your professor. **Try to understand each step, and make sure you provide code solutions and/or text inputs for each `#TODO` item (replacing `#TODO` with your input).**"
   ]
  },
  {
   "cell_type": "markdown",
   "metadata": {},
   "source": [
    "## Step 1: Setup (10 pts)\n",
    "Please, provide your VUnetID. Also, if you need to import any additional Python modules (you can come back here later), add those import statements in the following code cell.\n",
    "\n",
    "**VUnetID** : senths1"
   ]
  },
  {
   "cell_type": "code",
   "execution_count": 1,
   "metadata": {},
   "outputs": [],
   "source": [
    "# Import statements\n",
    "import random\n",
    "import numpy as np\n",
    "import matplotlib.pyplot as plt\n",
    "import statistics"
   ]
  },
  {
   "cell_type": "markdown",
   "metadata": {},
   "source": [
    "## Step 2: Data Preparation (10 pts)\n",
    "\n",
    "Using the results table above, create two Python lists, named `pythonifin` and `placebo`, containing the test scores for each subject."
   ]
  },
  {
   "cell_type": "code",
   "execution_count": 2,
   "metadata": {},
   "outputs": [],
   "source": [
    "pythonifin = [91, 87, 71, 100, 91, 97, 100, 80, 100, 79, 83, 94, 83, 79, 99, 95, 90, 97, 100, 91]\n",
    "placebo = [84, 92, 78, 100, 82, 85, 78, 87, 100, 85, 93, 76, 86, 89, 88]"
   ]
  },
  {
   "cell_type": "markdown",
   "metadata": {},
   "source": [
    "## Step 3: Initial Observations (15 pts)\n",
    "\n",
    "Compute the average (mean) scores for both groups. Print these values and the difference between them (the actual formating is up to you)."
   ]
  },
  {
   "cell_type": "code",
   "execution_count": 3,
   "metadata": {},
   "outputs": [
    {
     "name": "stdout",
     "output_type": "stream",
     "text": [
      "90.35\n",
      "86.86666666666666\n",
      "3.4833333333333343\n"
     ]
    }
   ],
   "source": [
    "mean_pythonifin = sum(pythonifin)/len(pythonifin)\n",
    "mean_placebo = sum(placebo)/len(placebo)\n",
    "diff = mean_pythonifin - mean_placebo\n",
    "\n",
    "print(mean_pythonifin)\n",
    "print(mean_placebo)\n",
    "print(diff)"
   ]
  },
  {
   "cell_type": "markdown",
   "metadata": {},
   "source": [
    "## Step 4: Initial Conclusion\n",
    "\n",
    "Please, provide your initial assesment in plain english on the effectiveness of _Pythofinin_. Please, be honest and do not come back later to re-assess you conclusions here. _This answer will not be graded_ .\n",
    "\n",
    "\n",
    "**Your initial assessment**: Pythofinin looks like it is effective since the average test score for people who took this wonder drug before the exam is higher than the average test core for people who didn't take the drug\n"
   ]
  },
  {
   "cell_type": "markdown",
   "metadata": {},
   "source": [
    "## Step 5: Getting some insights (15 pts)\n",
    "\n",
    "Use the [`plt.hist()`](https://matplotlib.org/3.3.1/api/_as_gen/matplotlib.pyplot.hist.html) function to plot the histograms of the two groups. You should have a single figure with two overlapping histogram plots in different colors. (Hint: you may want to use the `alpha=` optional parameter to control the transparency.)"
   ]
  },
  {
   "cell_type": "code",
   "execution_count": 4,
   "metadata": {},
   "outputs": [
    {
     "data": {
      "text/plain": [
       "(array([3., 0., 1., 3., 2., 2., 1., 1., 0., 2.]),\n",
       " array([ 76. ,  78.4,  80.8,  83.2,  85.6,  88. ,  90.4,  92.8,  95.2,\n",
       "         97.6, 100. ]),\n",
       " <BarContainer object of 10 artists>)"
      ]
     },
     "execution_count": 4,
     "metadata": {},
     "output_type": "execute_result"
    },
    {
     "data": {
      "image/png": "[encoded data removed]",
      "text/plain": [
       "<Figure size 640x480 with 1 Axes>"
      ]
     },
     "metadata": {},
     "output_type": "display_data"
    }
   ],
   "source": [
    "plt.hist(pythonifin, bins=10, alpha=0.5, label='pythonifin')\n",
    "plt.hist(placebo, bins=10, alpha=0.5, label='placebo')"
   ]
  },
  {
   "cell_type": "markdown",
   "metadata": {},
   "source": [
    "## Step 5: Intermediate Conclusion\n",
    "\n",
    "Based on the histograms do you have a _second opinion_ (in plain english) on the results? Again, do this now, and do not come back later. _This answer will not be graded_ .\n",
    "\n",
    "\n",
    "**Your intermediate assessment**: No, I do not have a second opinion - everything here looks correct - I still believe that Pythofinin provides students with better problem-solving skills as seen by the blue bar, which has a higher average than the placebo (orange bar)\n"
   ]
  },
  {
   "cell_type": "markdown",
   "metadata": {},
   "source": [
    "## Step 6: Significance Test with Permutation (40 pts)\n",
    "\n",
    "Use the permutation (a.k.a shuffling) approach to test the significance of your results. \n",
    "\n",
    "- Run `1000` experiments where you _randomly_ (re)assign all the test scores to the two treatment groups. Make sure, you keep the group sizes the same (20 vs. 15). \n",
    "- Store the difference of the means of the two random groups in a Python list (`1000` difference of means from the `1000` experiments).\n",
    "- Compute the number of experiments, when the difference between the two group mean scores were _at least_ as high as in the original non-shuffled case (i.e. Step 3) and compute the ratio of this count to the total number of experiments (this is your estimated _p-value_ ).\n",
    "- Make a histogram plot of the difference of means.\n",
    "- Print your _p-value_ (actual formating is up to you). Note: the _p-value_ is the area of the tail section of your histogram beyond the x-axis coordinate of the original difference of means."
   ]
  },
  {
   "cell_type": "code",
   "execution_count": 6,
   "metadata": {},
   "outputs": [
    {
     "name": "stdout",
     "output_type": "stream",
     "text": [
      "p-value: 0.101\n",
      "The difference in means between groups are not statistically significant; People that use pythonifin do not score statisticaly significantly better than people without it\n"
     ]
    },
    {
     "data": {
      "image/png": "[encoded data removed]",
      "text/plain": [
       "<Figure size 640x480 with 1 Axes>"
      ]
     },
     "metadata": {},
     "output_type": "display_data"
    }
   ],
   "source": [
    "n_permut = 1000\n",
    "diff_n = []\n",
    "\n",
    "# randomly shuffles and re-assigns all the test scores\n",
    "# calculates the difference between the two groups\n",
    "for n in range(n_permut):\n",
    "    to_shuffle = pythonifin + placebo\n",
    "    random.shuffle(to_shuffle)\n",
    "    \n",
    "    pythonifin = to_shuffle[0:len(pythonifin)]\n",
    "    placebo = to_shuffle[len(pythonifin):35]\n",
    "    \n",
    "    mean_pythonifin = sum(pythonifin)/len(pythonifin)\n",
    "    mean_placebo = sum(placebo)/len(placebo)\n",
    "    \n",
    "    diff_n.append(mean_pythonifin - mean_placebo)\n",
    "    \n",
    "# counts the number of experiments where the difference between the two group mean \n",
    "# scores were at least as high as in the original\n",
    "count = 0\n",
    "for x in diff_n:\n",
    "    if x >= diff:\n",
    "        count += 1\n",
    "\n",
    "# to calculate the right number of bins2 - using David Scott's method\n",
    "R = len(diff_n)\n",
    "n =35\n",
    "y = statistics.stdev(diff_n)\n",
    "bins2 = R * (n ** (1/3))/(3.49 * y)\n",
    "\n",
    "# plots the histogtam\n",
    "plt.hist(diff_n, bins= int(bins2), alpha=0.5, label='diff_in_means')\n",
    "\n",
    "# calculates the p-value\n",
    "p_value = count / len(diff_n)\n",
    "print (\"p-value: \" + str(p_value))\n",
    "\n",
    "# the alpha value\n",
    "alpha_value = 0.05\n",
    "\n",
    "# says if it is statistically significant or not based on the alpha_value\n",
    "if p_value < alpha_value:\n",
    "    print (\"The difference in means between group are statistically significant; People that use pythonifin score statistically significantly better than people without it\")\n",
    "else:\n",
    "    print (\"The difference in means between groups are not statistically significant; People that use pythonifin do not score statisticaly significantly better than people without it\")"
   ]
  },
  {
   "cell_type": "markdown",
   "metadata": {},
   "source": [
    "## Step 7: Final Conclusion (10 pts)\n",
    "\n",
    "Please, provide your **final assesment** in plain english on the effectiveness of _Pythofinin_. You should reject the hypothesis that the supplement works if your test result (difference of the two origianlly observed means) can happen accidentally by more than 5% chance. (Note: 5% is an arbitrary but widely accepted threshold).\n",
    "\n",
    "\n",
    "**Your final assessment**: Based on rigorous permutation testing, students that use pythofinin do NOT score statistically significantly better than students who do not use pythofinin."
   ]
  },
  {
   "cell_type": "markdown",
   "metadata": {},
   "source": [
    "## Grading\n",
    "\n",
    "In this assignment you will not have access to an autograder program (i.e. _validator_ ). Your work will be inspected and graded manually. Make sure you took care of every `#TODO` items in your assignment. Also, verify, that your notebook document can be executed sequentially from a clean state. You can do this by using the _\"Kernel/Restart & Run All\"_ menu item and checking your results.\n",
    "\n",
    "### Penalties\n",
    "\n",
    "Your work will not be checked for PEP8 style problems. Still, try to write readable and concise code.\n",
    "\n",
    "## Submission\n",
    "\n",
    "Please, upload the final version of this notebook file (`significance.ipynb`) to Brightspace."
   ]
  }
 ],
 "metadata": {
  "kernelspec": {
   "display_name": "Python 3 (ipykernel)",
   "language": "python",
   "name": "python3"
  },
  "language_info": {
   "codemirror_mode": {
    "name": "ipython",
    "version": 3
   },
   "file_extension": ".py",
   "mimetype": "text/x-python",
   "name": "python",
   "nbconvert_exporter": "python",
   "pygments_lexer": "ipython3",
   "version": "3.9.12"
  }
 },
 "nbformat": 4,
 "nbformat_minor": 4
}
